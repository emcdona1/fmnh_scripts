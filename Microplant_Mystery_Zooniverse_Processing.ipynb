{
  "nbformat": 4,
  "nbformat_minor": 0,
  "metadata": {
    "colab": {
      "name": "Microplant Mystery Zooniverse Processing",
      "provenance": [],
      "authorship_tag": "ABX9TyN+tsg5wTB3Vb4AZkkNA7Iu",
      "include_colab_link": true
    },
    "kernelspec": {
      "name": "python3",
      "display_name": "Python 3"
    },
    "language_info": {
      "name": "python"
    }
  },
  "cells": [
    {
      "cell_type": "markdown",
      "metadata": {
        "id": "view-in-github",
        "colab_type": "text"
      },
      "source": [
        "<a href=\"https://colab.research.google.com/github/emcdona1/fmnh_scripts/blob/main/Microplant_Mystery_Zooniverse_Processing.ipynb\" target=\"_parent\"><img src=\"https://colab.research.google.com/assets/colab-badge.svg\" alt=\"Open In Colab\"/></a>"
      ]
    },
    {
      "cell_type": "markdown",
      "metadata": {
        "id": "IGnWx_ka-xhK"
      },
      "source": [
        "**Preparation steps:**\n",
        "\n",
        "  1. Download your Classifications CSV from Zooniverse.\n",
        "  2. Go through this file and remove any old versions of your workflows.  (e.g. use Excel or Google Sheets)\n",
        "  3.  Upload the new CSV file to your Google Drive.\n",
        "\n",
        "-----\n",
        "**Google Colab steps:**\n",
        "\n",
        "**1. Press the play button on the cell below to start up Google Colab and connect it to your Google Drive.**\n",
        "\n",
        "   1. You may be prompted to open up a URL (blue link) - click the link and follow the prompts to authorize your Google account.\n",
        "   2. After you connect, you'll see an Authorization Code (long string of gibberish), copy and paste this text into the Colab prompt box (below).\n",
        "   3. Click Enter and wait 5-10 seconds while Google Drive connects."
      ]
    },
    {
      "cell_type": "code",
      "metadata": {
        "id": "Aa_4k-x978L3",
        "colab": {
          "base_uri": "https://localhost:8080/"
        },
        "outputId": "661e2944-1f01-4491-b8be-1a3d9462155e"
      },
      "source": [
        "import os\n",
        "import sys\n",
        "import io\n",
        "import shutil\n",
        "import ast\n",
        "import pandas as pd\n",
        "from statistics import mode, StatisticsError\n",
        "from google.colab import drive\n",
        "\n",
        "drive.mount('/content/drive')\n",
        "drive_folder = '/content/drive/MyDrive'"
      ],
      "execution_count": null,
      "outputs": [
        {
          "output_type": "stream",
          "text": [
            "Drive already mounted at /content/drive; to attempt to forcibly remount, call drive.mount(\"/content/drive\", force_remount=True).\n"
          ],
          "name": "stdout"
        }
      ]
    },
    {
      "cell_type": "markdown",
      "metadata": {
        "id": "F2bAF2p5-u1b"
      },
      "source": [
        "**2. Upload your Zooniverse classification file:**\n",
        "\n",
        "When prompted, type the name of the CSV file in your Google Drive -- be careful to type the name exactly!"
      ]
    },
    {
      "cell_type": "code",
      "metadata": {
        "colab": {
          "base_uri": "https://localhost:8080/"
        },
        "id": "ouYvywb_LDOe",
        "outputId": "1fe539b6-79d1-44e7-993a-9bcb8bfcddac"
      },
      "source": [
        "csv_file = input('Type the name of your CSV file: ')\n",
        "input_filename = csv_file\n",
        "csv_file_path = os.path.join(drive_folder, csv_file)\n",
        "output_filename = input_filename[:-4] + '-processed'\n",
        "if not os.path.exists(csv_file_path):\n",
        "  print(f'WARNING!  The file \"{csv_file}\" is not in your Google Drive!  Did you type the name correctly?')"
      ],
      "execution_count": null,
      "outputs": [
        {
          "output_type": "stream",
          "text": [
            "Type the name of your CSV file: my_file.csv\n"
          ],
          "name": "stdout"
        }
      ]
    },
    {
      "cell_type": "markdown",
      "metadata": {
        "id": "JeW35BAsVHiX"
      },
      "source": [
        "**3. Apply some basic formatting to the CSV file, extract the metadata, and identify the workflows.**"
      ]
    },
    {
      "cell_type": "code",
      "metadata": {
        "id": "1XoYOCIG-5hM",
        "colab": {
          "base_uri": "https://localhost:8080/"
        },
        "outputId": "05a9ecf4-68fc-4cae-e04d-393d5857844e"
      },
      "source": [
        "zooniverse_classifications = pd.read_csv(csv_file_path)\n",
        "def clean_formatting_and_parse(data: str):\n",
        "    data = data.replace('null', 'None')\n",
        "    data = data.replace('true', 'True')\n",
        "    data = data.replace('false', 'False')\n",
        "    return ast.literal_eval(data)\n",
        "\n",
        "zooniverse_classifications.loc[:, 'annotations'] = zooniverse_classifications['annotations'].apply(clean_formatting_and_parse)\n",
        "zooniverse_classifications.loc[:, 'metadata'] = zooniverse_classifications['metadata'].apply(clean_formatting_and_parse)\n",
        "zooniverse_classifications.loc[:, 'subject_data'] = zooniverse_classifications['subject_data'].apply(clean_formatting_and_parse)\n",
        "\n",
        "zooniverse_classifications['metadata-user_agent'] = zooniverse_classifications['metadata'].apply(lambda d: d['user_agent'])\n",
        "zooniverse_classifications['image_filename'] = zooniverse_classifications['subject_data'].apply(lambda d: d[list(d.keys())[0]]['Filename'])\n",
        "\n",
        "workflows = list(set(zooniverse_classifications.loc[:, 'workflow_name']))\n",
        "print('Zooniverse Workflows found:')\n",
        "for workflow in workflows:\n",
        "  print(f'-- {workflow}')"
      ],
      "execution_count": null,
      "outputs": [
        {
          "output_type": "stream",
          "text": [
            "Zooniverse Workflows found:\n",
            "-- Stem and Branching Patterns \n",
            "-- Determining the Gender of a Liverwort\n"
          ],
          "name": "stdout"
        }
      ]
    },
    {
      "cell_type": "markdown",
      "metadata": {
        "id": "9nbmscJLVG0A"
      },
      "source": [
        "**4. Parse the tasks (from annotations column) into separate columns.**"
      ]
    },
    {
      "cell_type": "code",
      "metadata": {
        "id": "oSGVYY6XFrFr",
        "colab": {
          "base_uri": "https://localhost:8080/"
        },
        "outputId": "c30639ef-331d-42fa-e302-f5e6fe629da1"
      },
      "source": [
        "results_by_workflow = list()\n",
        "for workflow_name in workflows:\n",
        "    results = zooniverse_classifications[zooniverse_classifications['workflow_name'] == workflow_name].copy()\n",
        "    for idx, row in results.iterrows():\n",
        "        max_count = 0\n",
        "        tasks = row['annotations']\n",
        "        for count, task in enumerate(tasks):\n",
        "            name = f'Task{count+1}'\n",
        "            results.loc[idx, f'{name}-id'] = task['task']\n",
        "            results.loc[idx, f'{name}-label'] = task['task_label']\n",
        "            results.loc[idx, f'{name}-value'] = str(task['value'])\n",
        "        if count > max_count: max_count = count\n",
        "    results_by_workflow.append(results)\n",
        "    print(f'{workflow_name.strip()} expanded into {max_count} task(s).')"
      ],
      "execution_count": null,
      "outputs": [
        {
          "output_type": "stream",
          "text": [
            "Stem and Branching Patterns expanded into 1 task(s).\n",
            "Determining the Gender of a Liverwort expanded into 2 task(s).\n"
          ],
          "name": "stdout"
        }
      ]
    },
    {
      "cell_type": "markdown",
      "metadata": {
        "id": "Z04XXlZoHpmi"
      },
      "source": [
        "**5. Extract the (x, y) coordinates.**"
      ]
    },
    {
      "cell_type": "code",
      "metadata": {
        "id": "LywBUkNBVrOi",
        "colab": {
          "base_uri": "https://localhost:8080/"
        },
        "outputId": "5b995716-5fda-4d8a-b280-b00c9b0be958"
      },
      "source": [
        "def extract_coordinate_info(workflow, idx, pt_info, colname):\n",
        "    workflow.loc[idx, f'{colname}-x'] = pt_info['x']\n",
        "    workflow.loc[idx, f'{colname}-y'] = pt_info['y']\n",
        "    workflow.loc[idx, f'{colname}-width'] = pt_info['width']\n",
        "    workflow.loc[idx, f'{colname}-height'] = pt_info['height']\n",
        "    workflow.loc[idx, f'{colname}-value_label'] = pt_info['tool_label']\n",
        "\n",
        "for workflow_name, workflow in zip(workflows, results_by_workflow):\n",
        "    value_columns = [val for val in list(workflow.columns) if 'value' in val]\n",
        "    for idx, row in workflow.iterrows():\n",
        "        for col in value_columns:\n",
        "            try:\n",
        "                points = ast.literal_eval(row[col])\n",
        "                if type(points) == list:\n",
        "                    for pt_idx, point in enumerate(points):\n",
        "                        colname = col.split('-')[0] + '-Pt' + str(pt_idx + 1)\n",
        "                        extract_coordinate_info(workflow, idx, points[0], colname)\n",
        "                workflow.loc[idx, col] = None\n",
        "            except: pass\n",
        "    found_points = list(set([a.split('-')[0]+'-'+a.split('-')[1] for a in list(workflow.columns) if 'Pt' in a]))\n",
        "    print(f'Workflow: {workflow_name}')\n",
        "    if len(found_points) > 0:\n",
        "        print(f'-- Point info found:', found_points)\n",
        "    else:\n",
        "        print('-- No point data found.')\n",
        "    print()"
      ],
      "execution_count": null,
      "outputs": [
        {
          "output_type": "stream",
          "text": [
            "Workflow: Stem and Branching Patterns \n",
            "-- No point data found.\n",
            "\n",
            "Workflow: Determining the Gender of a Liverwort\n",
            "-- Point info found: ['Task3-Pt1', 'Task3-Pt2']\n",
            "\n"
          ],
          "name": "stdout"
        }
      ]
    },
    {
      "cell_type": "markdown",
      "metadata": {
        "id": "IUo5wQGIVYPf"
      },
      "source": [
        "**6. Save the files.**"
      ]
    },
    {
      "cell_type": "code",
      "metadata": {
        "id": "FI0B-yAl8WT_",
        "colab": {
          "base_uri": "https://localhost:8080/"
        },
        "outputId": "33bb5447-edc4-4fed-e657-8cf486c8f184"
      },
      "source": [
        "results_folder = './results'\n",
        "if not os.path.exists(results_folder):\n",
        "  os.makedirs(results_folder)\n",
        "for (workflow_name, workflow) in zip(workflows, results_by_workflow):\n",
        "  file_location = os.path.join(results_folder, workflow_name.strip() + '.csv')\n",
        "  workflow.to_csv(file_location, index=False, encoding='UTF-8')\n",
        "\n",
        "save_location = shutil.make_archive(output_filename, 'zip', results_folder)\n",
        "print(f'Saved to {save_location}')"
      ],
      "execution_count": null,
      "outputs": [
        {
          "output_type": "stream",
          "text": [
            "Saved to /content/my_file-processed.zip\n"
          ],
          "name": "stdout"
        }
      ]
    },
    {
      "cell_type": "markdown",
      "metadata": {
        "id": "qAhcRFNiVd7B"
      },
      "source": [
        "**7. On the left side, click the Folder icon, and find your new ZIP file.  Click the 3 dots (right side) and then click Download.**"
      ]
    }
  ]
}